{
  "cells": [
    {
      "cell_type": "markdown",
      "metadata": {
        "id": "view-in-github",
        "colab_type": "text"
      },
      "source": [
        "<a href=\"https://colab.research.google.com/github/roztekin1/BTE320-In-Class-Assignment/blob/main/InClassAssignment.ipynb\" target=\"_parent\"><img src=\"https://colab.research.google.com/assets/colab-badge.svg\" alt=\"Open In Colab\"/></a>"
      ]
    },
    {
      "cell_type": "code",
      "execution_count": null,
      "metadata": {
        "colab": {
          "base_uri": "https://localhost:8080/"
        },
        "id": "bdW4LOfjkOhM",
        "outputId": "5bffe883-207a-4d20-d1dd-02d6c1f3a559"
      },
      "outputs": [
        {
          "name": "stdout",
          "output_type": "stream",
          "text": [
            "244.92000000000002\n"
          ]
        }
      ],
      "source": [
        "pi=3.14\n",
        "r=3\n",
        "h=10\n",
        "\n",
        "Area=(2*pi*r**2)+2*pi*r*h\n",
        "\n",
        "print(Area)"
      ]
    },
    {
      "cell_type": "code",
      "execution_count": null,
      "metadata": {
        "colab": {
          "base_uri": "https://localhost:8080/"
        },
        "id": "zvvuWjHasejI",
        "outputId": "331ec290-5ede-4efe-ebe9-c176b5016341"
      },
      "outputs": [
        {
          "name": "stdout",
          "output_type": "stream",
          "text": [
            "Do you want to play?: Yes\n",
            "Player 1:rock, paper, scissors: rock\n",
            "Draw\n",
            "Do you want to play?: No\n"
          ]
        }
      ],
      "source": [
        "import random\n",
        "play_the_game=input('Do you want to play?: ')\n",
        "while play_the_game=='Yes':\n",
        "\n",
        "\n",
        "  p1=input('Player 1:rock, paper, scissors: ')\n",
        "  p2=random.choice(['rock', 'paper', 'scissors'])\n",
        "\n",
        "  if p1==p2:\n",
        "    print('Draw')\n",
        "\n",
        "  elif p1=='rock' and p2=='scissors':\n",
        "    print('Player One Wins')\n",
        "\n",
        "  elif p1=='paper' and p2=='scissors':\n",
        "    print('Player Two Wins')\n",
        "\n",
        "  elif p1=='rock' and p2=='paper':\n",
        "    print('Player TWo Wins')\n",
        "\n",
        "  elif p1=='scissors' and p2=='rock':\n",
        "    print('Player Two Wins')\n",
        "\n",
        "  elif p1=='paper' and p2=='rock':\n",
        "    print('Player One Wins')\n",
        "\n",
        "  elif p1=='scissors' and p2=='paper':\n",
        "    print('Player One Wins')\n",
        "  play_the_game=input('Do you want to play?: ')"
      ]
    },
    {
      "cell_type": "code",
      "execution_count": null,
      "metadata": {
        "colab": {
          "base_uri": "https://localhost:8080/"
        },
        "id": "xdJAxwOA49VR",
        "outputId": "59ec2121-63bd-40a7-dbb3-e46404dbc9f9"
      },
      "outputs": [
        {
          "name": "stdout",
          "output_type": "stream",
          "text": [
            "Enter First Number: 1\n",
            "Enter Symbol: **\n",
            "Enter Second Number: 2\n",
            "1.0\n"
          ]
        }
      ],
      "source": [
        "n1=float(input('Enter First Number: '))\n",
        "symbol=input('Enter Symbol: ')\n",
        "n2=float(input('Enter Second Number: '))\n",
        "\n",
        "if symbol=='+':\n",
        "  print(n1+n2)\n",
        "elif symbol=='-':\n",
        "  print(n1-n2)\n",
        "elif symbol=='*':\n",
        "  print(n1*n2)\n",
        "elif symbol=='/':\n",
        "  print(n1/n2)\n",
        "elif symbol=='**':\n",
        "  print(n1**n2)\n",
        "\n",
        "\n"
      ]
    },
    {
      "cell_type": "code",
      "execution_count": null,
      "metadata": {
        "colab": {
          "base_uri": "https://localhost:8080/"
        },
        "id": "YASbndYa7PNw",
        "outputId": "3dd62269-3915-4c98-a015-ece70a6e9960"
      },
      "outputs": [
        {
          "name": "stdout",
          "output_type": "stream",
          "text": [
            "1 7.5\n",
            "2 10.0\n",
            "3 12.5\n",
            "4 15.0\n",
            "5 17.5\n",
            "6 20.0\n",
            "7 22.5\n",
            "8 25.0\n"
          ]
        }
      ],
      "source": [
        "flat_rate=5\n",
        "hourly_rate=2.5\n",
        "i=1\n",
        "while i < 9:\n",
        "  print(i,5+2.5*i)\n",
        "  i=i+1\n",
        "\n"
      ]
    },
    {
      "cell_type": "code",
      "execution_count": null,
      "metadata": {
        "colab": {
          "background_save": true,
          "base_uri": "https://localhost:8080/"
        },
        "id": "eRxa7X3LAqFq",
        "outputId": "11941bb8-5b61-4918-ebc9-83686b97bc04"
      },
      "outputs": [
        {
          "name": "stdout",
          "output_type": "stream",
          "text": [
            "1 10.0\n",
            "2 10.0\n",
            "3 12.5\n",
            "4 15.0\n",
            "5 17.5\n",
            "6 20.0\n",
            "7 20.0\n",
            "8 20.0\n"
          ]
        }
      ],
      "source": [
        "flat_rate=5\n",
        "hourly_rate=2.5\n",
        "i=1\n",
        "while i < 9:\n",
        "  charge=flat_rate+hourly_rate*i\n",
        "  if charge <10:\n",
        "    print(i,10.0)\n",
        "  elif charge>20:\n",
        "    print(i,20.0)\n",
        "  else:\n",
        "    print(i,charge)\n",
        "  i=i+1"
      ]
    },
    {
      "cell_type": "code",
      "execution_count": null,
      "metadata": {
        "colab": {
          "base_uri": "https://localhost:8080/"
        },
        "id": "l_8e_XsLDL5D",
        "outputId": "6b20ff92-8b1b-4267-8560-5c0c519cf088"
      },
      "outputs": [
        {
          "name": "stdout",
          "output_type": "stream",
          "text": [
            "ad profit\n",
            "0 0.0\n",
            "25 75.0\n",
            "50 90.0\n",
            "75 105.0\n",
            "100 100.0\n",
            "125 95.0\n",
            "150 90.0\n",
            "175 85.0\n",
            "200 80.0\n"
          ]
        }
      ],
      "source": [
        "print('ad','profit')\n",
        "\n",
        "for i in range (0,201,25):\n",
        "  attend=20+2*round(i**.5,0)\n",
        "  revenue=(attend*10)\n",
        "  ad=i\n",
        "  profit=revenue-ad-200\n",
        "\n",
        "  print(i,profit)\n"
      ]
    },
    {
      "cell_type": "code",
      "execution_count": null,
      "metadata": {
        "colab": {
          "base_uri": "https://localhost:8080/"
        },
        "id": "xOeKbqmwIw7k",
        "outputId": "37542454-4bcb-4866-90f2-cfd76e01db5e"
      },
      "outputs": [
        {
          "name": "stdout",
          "output_type": "stream",
          "text": [
            "Please Give a Value: 4\n",
            "Please Give a Value: 5\n",
            "Please Give a Value: 6\n",
            "Please Give a Value: 0\n"
          ]
        }
      ],
      "source": [
        "I=[]\n",
        "item=int(input('Please Give a Value: '))\n",
        "while item!=0:\n",
        "  item=int(input('Please Give a Value: '))\n",
        "  I.append(item)\n",
        "\n",
        "\n",
        "\n"
      ]
    },
    {
      "cell_type": "code",
      "source": [
        "months={}\n",
        "\n",
        "names=['Jan','Feb','Mar','Apr','May','Jun','Jul','Aug','Sep','Oct','Nov','Dec']\n",
        "numbers=[1,2,3,4,5,6,7,8,9,10,11,12]\n",
        "\n",
        "for i in range(len(numbers)):\n",
        " months[numbers[i]] = names[i]\n",
        "\n",
        "print(months)\n"
      ],
      "metadata": {
        "colab": {
          "base_uri": "https://localhost:8080/"
        },
        "id": "crUMuuq_46Og",
        "outputId": "37974b82-0674-4ea6-f5b5-1ff055d78e06"
      },
      "execution_count": null,
      "outputs": [
        {
          "output_type": "stream",
          "name": "stdout",
          "text": [
            "{1: 'Jan', 2: 'Feb', 3: 'Mar', 4: 'Apr', 5: 'May', 6: 'Jun', 7: 'Jul', 8: 'Aug', 9: 'Sep', 10: 'Oct', 11: 'Nov', 12: 'Dec'}\n"
          ]
        }
      ]
    },
    {
      "cell_type": "code",
      "source": [
        "months[3]"
      ],
      "metadata": {
        "id": "gpqphWGh-mmF",
        "outputId": "61b90e69-1089-46f7-ecca-7130456fcd2f",
        "colab": {
          "base_uri": "https://localhost:8080/",
          "height": 35
        }
      },
      "execution_count": null,
      "outputs": [
        {
          "output_type": "execute_result",
          "data": {
            "text/plain": [
              "'Mar'"
            ],
            "application/vnd.google.colaboratory.intrinsic+json": {
              "type": "string"
            }
          },
          "metadata": {},
          "execution_count": 15
        }
      ]
    },
    {
      "cell_type": "code",
      "source": [
        "\n",
        "portion_down_payment = 0.25\n",
        "r = 0.04\n",
        "\n",
        "annual_salary= float(input('Enter your annual salary: '))\n",
        "portion_saved= float(input('Enter the percent of your salary to save: '))\n",
        "total_cost=float(input('Enter the cost of your dream home: '))\n",
        "monthly_salary=annual_salary / 12\n",
        "down_payment=total_cost*portion_down_payment\n",
        "current_savings=0\n",
        "months=0\n",
        "\n",
        "while current_savings < down_payment:\n",
        "    current_savings += current_savings * (r / 12)\n",
        "    current_savings += monthly_salary * portion_saved\n",
        "    months += 1\n",
        "\n",
        "print(f\"Number of months: {months}\")\n"
      ],
      "metadata": {
        "colab": {
          "base_uri": "https://localhost:8080/"
        },
        "id": "jKJTQonsPJ2j",
        "outputId": "1a35b0e3-88cb-409c-c1a9-5c5bd797791a"
      },
      "execution_count": null,
      "outputs": [
        {
          "output_type": "stream",
          "name": "stdout",
          "text": [
            "Enter your annual salary: 120000\n",
            "Enter the percent of your salary to save: .1\n",
            "Enter the cost of your dream home: 1000000\n",
            "Number of months: 183\n"
          ]
        }
      ]
    },
    {
      "cell_type": "code",
      "source": [
        "portion_down_payment = 0.25\n",
        "r = 0.04\n",
        "\n",
        "annual_salary= float(input(\"Enter your annual salary: \"))\n",
        "portion_saved= float(input(\"Enter the percent of your salary to save: \"))\n",
        "total_cost=float(input(\"Enter the cost of your dream home: \"))\n",
        "semi_annual_raise=float(input('Enter your semi-annual raise percentage as a decimal: '))\n",
        "monthly_salary=annual_salary / 12\n",
        "down_payment=total_cost*portion_down_payment\n",
        "current_savings=0\n",
        "months=0\n",
        "\n",
        "while current_savings < down_payment:\n",
        "    current_savings += current_savings * (r / 12)\n",
        "    current_savings += monthly_salary * portion_saved\n",
        "    months += 1\n",
        "    if months%6==0:\n",
        "      annual_salary=annual_salary+annual_salary*semi_annual_raise\n",
        "      monthly_salary= annual_salary/12\n",
        "\n",
        "print(f\"Number of months: {months}\")"
      ],
      "metadata": {
        "colab": {
          "base_uri": "https://localhost:8080/"
        },
        "id": "UolBEb1MPnTQ",
        "outputId": "72123bce-1c2e-4640-ad92-d80f98a636f2"
      },
      "execution_count": null,
      "outputs": [
        {
          "output_type": "stream",
          "name": "stdout",
          "text": [
            "Enter your annual salary: 120000\n",
            "Enter the percent of your salary to save: .05\n",
            "Enter the cost of your dream home: 500000\n",
            "Enter your semi-annual raise percentage as a decimal: .03\n",
            "Number of months: 142\n"
          ]
        }
      ]
    },
    {
      "cell_type": "code",
      "source": [
        "def range_check(num,low,high):\n",
        "  if num>=low and num<=high:\n",
        "    return True\n",
        "  else:\n",
        "    return False"
      ],
      "metadata": {
        "id": "VbwSGvj4SXCD"
      },
      "execution_count": null,
      "outputs": []
    },
    {
      "cell_type": "code",
      "source": [
        "print(range_check(2,1,3))"
      ],
      "metadata": {
        "colab": {
          "base_uri": "https://localhost:8080/"
        },
        "id": "JgQdpGtpSpR7",
        "outputId": "3b992aac-2249-448c-81c2-ffe188ee1fe9"
      },
      "execution_count": null,
      "outputs": [
        {
          "output_type": "stream",
          "name": "stdout",
          "text": [
            "True\n"
          ]
        }
      ]
    },
    {
      "cell_type": "code",
      "source": [
        "\n",
        "def calcFee(hours):\n",
        "  print(5+(2.5*hours))\n",
        "hours=int(input('Enter Number of Hours Parked: '))\n",
        "calcFee(hours)\n",
        "\n",
        "\n"
      ],
      "metadata": {
        "colab": {
          "base_uri": "https://localhost:8080/"
        },
        "id": "IyJqnGnv9d9e",
        "outputId": "a8cc42af-aa2a-415e-a24e-1dfb36507aeb"
      },
      "execution_count": null,
      "outputs": [
        {
          "output_type": "stream",
          "name": "stdout",
          "text": [
            "Enter Number of Hours Parked: 4\n",
            "15.0\n"
          ]
        }
      ]
    },
    {
      "cell_type": "code",
      "source": [
        "def calcFee(hours,decimals=2):\n",
        "  fee=hours*2.5+5\n",
        "  fee= round(fee,decimals)\n",
        "  return fee\n",
        "def displayFee(fee):\n",
        "  print(fee)\n",
        "\n",
        "hours=int(input('Enter Number of Hours Parked: '))\n",
        "fee=calcFee(hours)\n",
        "displayFee(fee)\n",
        "\n",
        "\n",
        "\n"
      ],
      "metadata": {
        "colab": {
          "base_uri": "https://localhost:8080/"
        },
        "id": "QMdwEJV7CEL3",
        "outputId": "21595fa1-fa70-42ca-9acc-010a1f0d2f11"
      },
      "execution_count": null,
      "outputs": [
        {
          "output_type": "stream",
          "name": "stdout",
          "text": [
            "Enter Number of Hours Parked: 5\n",
            "17.5\n"
          ]
        }
      ]
    },
    {
      "cell_type": "code",
      "source": [
        "\n",
        "def reverse(s):\n",
        "  if len(s)==1:\n",
        "    return s\n",
        "  else:\n",
        "    return s[::-1]\n",
        "\n",
        "reverse('hello')"
      ],
      "metadata": {
        "colab": {
          "base_uri": "https://localhost:8080/",
          "height": 35
        },
        "id": "1ndSorH_HVE3",
        "outputId": "cd3c3d03-8338-44f0-d884-328d237ce8e8"
      },
      "execution_count": null,
      "outputs": [
        {
          "output_type": "execute_result",
          "data": {
            "text/plain": [
              "'olleh'"
            ],
            "application/vnd.google.colaboratory.intrinsic+json": {
              "type": "string"
            }
          },
          "metadata": {},
          "execution_count": 17
        }
      ]
    },
    {
      "cell_type": "code",
      "source": [
        "def wAvg(L,w):\n",
        "  try:\n",
        "    res=[]\n",
        "    for i in range (len(L)):\n",
        "      res.append(L[i]*w[i])\n",
        "    return sum(res)/sum(w)\n",
        "  except ZeroDivisionError:\n",
        "    print('Divided by zero')\n",
        "    return []\n",
        "  except TypeError:\n",
        "    print('Non-numerical objects found')\n",
        "    return []\n",
        "  except Exception as e:\n",
        "    print('Unknown Error')\n",
        "    return float('nan')\n",
        "wAvg([1,2,3],[.2,.0,-.2])\n",
        "\n",
        "\n",
        "\n"
      ],
      "metadata": {
        "colab": {
          "base_uri": "https://localhost:8080/"
        },
        "id": "fXkn5GmigARk",
        "outputId": "60b70efa-2898-4827-c30f-c12b30038e4c"
      },
      "execution_count": null,
      "outputs": [
        {
          "output_type": "stream",
          "name": "stdout",
          "text": [
            "Divided by zero\n"
          ]
        },
        {
          "output_type": "execute_result",
          "data": {
            "text/plain": [
              "[]"
            ]
          },
          "metadata": {},
          "execution_count": 19
        }
      ]
    },
    {
      "cell_type": "code",
      "source": [
        "class Student:\n",
        "  def __init__(self,name,number):\n",
        "    self.name= name\n",
        "    self.number= number\n",
        "\n"
      ],
      "metadata": {
        "id": "tdaNSvLIYuQH"
      },
      "execution_count": 8,
      "outputs": []
    },
    {
      "cell_type": "code",
      "source": [
        "s1= Student('James Bond', '007')\n",
        "s2= Student('Clark Kent', '333')\n",
        "\n",
        "s1.name"
      ],
      "metadata": {
        "colab": {
          "base_uri": "https://localhost:8080/",
          "height": 35
        },
        "id": "X3ASJZpmZzoE",
        "outputId": "050da270-51b6-4ef6-d220-c043039d1643"
      },
      "execution_count": 10,
      "outputs": [
        {
          "output_type": "execute_result",
          "data": {
            "text/plain": [
              "'James Bond'"
            ],
            "application/vnd.google.colaboratory.intrinsic+json": {
              "type": "string"
            }
          },
          "metadata": {},
          "execution_count": 10
        }
      ]
    }
  ],
  "metadata": {
    "colab": {
      "provenance": [],
      "authorship_tag": "ABX9TyNTFK1Ge8vY3ll5bwScknHT",
      "include_colab_link": true
    },
    "kernelspec": {
      "display_name": "Python 3",
      "name": "python3"
    },
    "language_info": {
      "name": "python"
    }
  },
  "nbformat": 4,
  "nbformat_minor": 0
}