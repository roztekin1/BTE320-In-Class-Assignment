{
  "nbformat": 4,
  "nbformat_minor": 0,
  "metadata": {
    "colab": {
      "provenance": [],
      "authorship_tag": "ABX9TyNNj4drXU6x3oIwWHTzHk7H",
      "include_colab_link": true
    },
    "kernelspec": {
      "name": "python3",
      "display_name": "Python 3"
    },
    "language_info": {
      "name": "python"
    }
  },
  "cells": [
    {
      "cell_type": "markdown",
      "metadata": {
        "id": "view-in-github",
        "colab_type": "text"
      },
      "source": [
        "<a href=\"https://colab.research.google.com/github/roztekin1/BTE320-In-Class-Assignment/blob/main/InClassAssignment.ipynb\" target=\"_parent\"><img src=\"https://colab.research.google.com/assets/colab-badge.svg\" alt=\"Open In Colab\"/></a>"
      ]
    },
    {
      "cell_type": "code",
      "execution_count": null,
      "metadata": {
        "colab": {
          "base_uri": "https://localhost:8080/"
        },
        "id": "bdW4LOfjkOhM",
        "outputId": "5bffe883-207a-4d20-d1dd-02d6c1f3a559"
      },
      "outputs": [
        {
          "output_type": "stream",
          "name": "stdout",
          "text": [
            "244.92000000000002\n"
          ]
        }
      ],
      "source": [
        "pi=3.14\n",
        "r=3\n",
        "h=10\n",
        "\n",
        "Area=(2*pi*r**2)+2*pi*r*h\n",
        "\n",
        "print(Area)"
      ]
    },
    {
      "cell_type": "code",
      "source": [
        "import random\n",
        "play_the_game=input('Do you want to play?: ')\n",
        "while play_the_game=='Yes':\n",
        "\n",
        "\n",
        "  p1=input('Player 1:rock, paper, scissors: ')\n",
        "  p2=random.choice(['rock', 'paper', 'scissors'])\n",
        "\n",
        "  if p1==p2:\n",
        "    print('Draw')\n",
        "\n",
        "  elif p1=='rock' and p2=='scissors':\n",
        "    print('Player One Wins')\n",
        "\n",
        "  elif p1=='paper' and p2=='scissors':\n",
        "    print('Player Two Wins')\n",
        "\n",
        "  elif p1=='rock' and p2=='paper':\n",
        "    print('Player TWo Wins')\n",
        "\n",
        "  elif p1=='scissors' and p2=='rock':\n",
        "    print('Player Two Wins')\n",
        "\n",
        "  elif p1=='paper' and p2=='rock':\n",
        "    print('Player One Wins')\n",
        "\n",
        "  elif p1=='scissors' and p2=='paper':\n",
        "    print('Player One Wins')\n",
        "  play_the_game=input('Do you want to play?: ')"
      ],
      "metadata": {
        "colab": {
          "base_uri": "https://localhost:8080/"
        },
        "id": "zvvuWjHasejI",
        "outputId": "331ec290-5ede-4efe-ebe9-c176b5016341"
      },
      "execution_count": null,
      "outputs": [
        {
          "name": "stdout",
          "output_type": "stream",
          "text": [
            "Do you want to play?: Yes\n",
            "Player 1:rock, paper, scissors: rock\n",
            "Draw\n",
            "Do you want to play?: No\n"
          ]
        }
      ]
    },
    {
      "cell_type": "code",
      "source": [
        "n1=float(input('Enter First Number: '))\n",
        "symbol=input('Enter Symbol: ')\n",
        "n2=float(input('Enter Second Number: '))\n",
        "\n",
        "if symbol=='+':\n",
        "  print(n1+n2)\n",
        "elif symbol=='-':\n",
        "  print(n1-n2)\n",
        "elif symbol=='*':\n",
        "  print(n1*n2)\n",
        "elif symbol=='/':\n",
        "  print(n1/n2)\n",
        "elif symbol=='**':\n",
        "  print(n1**n2)\n",
        "\n",
        "\n"
      ],
      "metadata": {
        "colab": {
          "base_uri": "https://localhost:8080/"
        },
        "id": "xdJAxwOA49VR",
        "outputId": "59ec2121-63bd-40a7-dbb3-e46404dbc9f9"
      },
      "execution_count": null,
      "outputs": [
        {
          "output_type": "stream",
          "name": "stdout",
          "text": [
            "Enter First Number: 1\n",
            "Enter Symbol: **\n",
            "Enter Second Number: 2\n",
            "1.0\n"
          ]
        }
      ]
    },
    {
      "cell_type": "code",
      "source": [
        "flat_rate=5\n",
        "hourly_rate=2.5\n",
        "i=1\n",
        "while i < 9:\n",
        "  print(i,5+2.5*i)\n",
        "  i=i+1\n",
        "\n"
      ],
      "metadata": {
        "id": "YASbndYa7PNw",
        "colab": {
          "base_uri": "https://localhost:8080/"
        },
        "outputId": "3dd62269-3915-4c98-a015-ece70a6e9960"
      },
      "execution_count": 8,
      "outputs": [
        {
          "output_type": "stream",
          "name": "stdout",
          "text": [
            "1 7.5\n",
            "2 10.0\n",
            "3 12.5\n",
            "4 15.0\n",
            "5 17.5\n",
            "6 20.0\n",
            "7 22.5\n",
            "8 25.0\n"
          ]
        }
      ]
    },
    {
      "cell_type": "code",
      "source": [
        "flat_rate=5\n",
        "hourly_rate=2.5\n",
        "i=1\n",
        "while i < 9:\n",
        "  charge=flat_rate+hourly_rate*i\n",
        "  if charge <10:\n",
        "    print(i,10.0)\n",
        "  elif charge>20:\n",
        "    print(i,20.0)\n",
        "  else:\n",
        "    print(i,charge)\n",
        "  i=i+1"
      ],
      "metadata": {
        "colab": {
          "base_uri": "https://localhost:8080/"
        },
        "id": "eRxa7X3LAqFq",
        "outputId": "b69f8bee-c264-4e5e-e717-41ec0846a322"
      },
      "execution_count": 13,
      "outputs": [
        {
          "output_type": "stream",
          "name": "stdout",
          "text": [
            "1 10.0\n",
            "2 10.0\n",
            "3 12.5\n",
            "4 15.0\n",
            "5 17.5\n",
            "6 20.0\n",
            "7 20.0\n",
            "8 20.0\n"
          ]
        }
      ]
    },
    {
      "cell_type": "code",
      "source": [
        "print('ad','profit')\n",
        "\n",
        "for i in range (0,201,25):\n",
        "  attend=20+2*round(i**.5,0)\n",
        "  revenue=(attend*10)\n",
        "  ad=i\n",
        "  profit=revenue-ad-200\n",
        "\n",
        "  print(i,profit)\n",
        ""
      ],
      "metadata": {
        "colab": {
          "base_uri": "https://localhost:8080/"
        },
        "id": "l_8e_XsLDL5D",
        "outputId": "6b20ff92-8b1b-4267-8560-5c0c519cf088"
      },
      "execution_count": 34,
      "outputs": [
        {
          "output_type": "stream",
          "name": "stdout",
          "text": [
            "ad profit\n",
            "0 0.0\n",
            "25 75.0\n",
            "50 90.0\n",
            "75 105.0\n",
            "100 100.0\n",
            "125 95.0\n",
            "150 90.0\n",
            "175 85.0\n",
            "200 80.0\n"
          ]
        }
      ]
    }
  ]
}