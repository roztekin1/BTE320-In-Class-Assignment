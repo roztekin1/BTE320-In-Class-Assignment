{
  "nbformat": 4,
  "nbformat_minor": 0,
  "metadata": {
    "colab": {
      "provenance": [],
      "authorship_tag": "ABX9TyPXl3vQlyrf4ALzOuNImqDW",
      "include_colab_link": true
    },
    "kernelspec": {
      "name": "python3",
      "display_name": "Python 3"
    },
    "language_info": {
      "name": "python"
    }
  },
  "cells": [
    {
      "cell_type": "markdown",
      "metadata": {
        "id": "view-in-github",
        "colab_type": "text"
      },
      "source": [
        "<a href=\"https://colab.research.google.com/github/roztekin1/BTE320-In-Class-Assignment/blob/main/InClassAssignment.ipynb\" target=\"_parent\"><img src=\"https://colab.research.google.com/assets/colab-badge.svg\" alt=\"Open In Colab\"/></a>"
      ]
    },
    {
      "cell_type": "code",
      "execution_count": null,
      "metadata": {
        "colab": {
          "base_uri": "https://localhost:8080/"
        },
        "id": "bdW4LOfjkOhM",
        "outputId": "5bffe883-207a-4d20-d1dd-02d6c1f3a559"
      },
      "outputs": [
        {
          "output_type": "stream",
          "name": "stdout",
          "text": [
            "244.92000000000002\n"
          ]
        }
      ],
      "source": [
        "pi=3.14\n",
        "r=3\n",
        "h=10\n",
        "\n",
        "Area=(2*pi*r**2)+2*pi*r*h\n",
        "\n",
        "print(Area)"
      ]
    },
    {
      "cell_type": "code",
      "source": [
        "p1=input('Player 1:rock, paper, scissors: ')\n",
        "p2=input('Player 2:rock, paper, scissors: ')\n",
        "\n",
        "if p1==p2:\n",
        "  print('Draw')\n",
        "\n",
        "elif p1=='rock' and p2=='scissors':\n",
        "  print('Player One Wins')\n",
        "\n",
        "elif p1=='paper' and p2=='scissors':\n",
        "  print('Player Two Wins')\n",
        "\n",
        "elif p1=='rock' and p2=='paper':\n",
        "  print('Player TWo Wins')\n",
        "\n",
        "elif p1=='scissors' and p2=='rock':\n",
        "  print('Player Two Wins')\n",
        "\n",
        "elif p1=='paper' and p2=='rock':\n",
        "  print('Player One Wins')\n",
        "\n",
        "elif p1=='scissors' and p2=='paper':\n",
        "  print('Player One Wins')"
      ],
      "metadata": {
        "colab": {
          "base_uri": "https://localhost:8080/"
        },
        "id": "zvvuWjHasejI",
        "outputId": "33523e85-43ab-474a-a1a9-cd7c34fc08a1"
      },
      "execution_count": null,
      "outputs": [
        {
          "output_type": "stream",
          "name": "stdout",
          "text": [
            "Player 1:rock, paper, scissors: rock\n",
            "Player 2:rock, paper, scissors: paper\n",
            "Player TWo Wins\n"
          ]
        }
      ]
    },
    {
      "cell_type": "code",
      "source": [
        "n1=float(input('Enter First Number: '))\n",
        "symbol=input('Enter Symbol: ')\n",
        "n2=float(input('Enter Second Number: '))\n",
        "\n",
        "if symbol=='+':\n",
        "  print(n1+n2)\n",
        "elif symbol=='-':\n",
        "  print(n1-n2)\n",
        "elif symbol=='*':\n",
        "  print(n1*n2)\n",
        "elif symbol=='/':\n",
        "  print(n1/n2)\n",
        "elif symbol=='**':\n",
        "  print(n1**n2)\n",
        "\n",
        "\n",
        ""
      ],
      "metadata": {
        "colab": {
          "base_uri": "https://localhost:8080/"
        },
        "id": "xdJAxwOA49VR",
        "outputId": "59ec2121-63bd-40a7-dbb3-e46404dbc9f9"
      },
      "execution_count": 12,
      "outputs": [
        {
          "output_type": "stream",
          "name": "stdout",
          "text": [
            "Enter First Number: 1\n",
            "Enter Symbol: **\n",
            "Enter Second Number: 2\n",
            "1.0\n"
          ]
        }
      ]
    },
    {
      "cell_type": "code",
      "source": [],
      "metadata": {
        "id": "YASbndYa7PNw"
      },
      "execution_count": null,
      "outputs": []
    }
  ]
}